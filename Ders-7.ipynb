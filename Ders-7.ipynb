{
  "nbformat": 4,
  "nbformat_minor": 0,
  "metadata": {
    "colab": {
      "name": "Untitled0.ipynb",
      "provenance": []
    },
    "kernelspec": {
      "name": "python3",
      "display_name": "Python 3"
    },
    "language_info": {
      "name": "python"
    }
  },
  "cells": [
    {
      "cell_type": "code",
      "metadata": {
        "id": "maON_xDuoKD3"
      },
      "source": [
        "#Fonksiyonlar-----yazılımda sürekli tekrar eden kod blokları fazla yer tutmasın diye fonksşyon olarak ayzılır...."
      ],
      "execution_count": null,
      "outputs": []
    },
    {
      "cell_type": "code",
      "metadata": {
        "colab": {
          "base_uri": "https://localhost:8080/"
        },
        "id": "4t1ValUMooXR",
        "outputId": "733a812e-79ca-40fd-b287-993e4a3545cf"
      },
      "source": [
        "print(\"Merhaba, hoş geldin...\")"
      ],
      "execution_count": 1,
      "outputs": [
        {
          "output_type": "stream",
          "text": [
            "Merhaba, hoş geldin...\n"
          ],
          "name": "stdout"
        }
      ]
    },
    {
      "cell_type": "code",
      "metadata": {
        "id": "vRNeSTuAozq5"
      },
      "source": [
        "def selam():\n",
        "  ad = input(\"Adını gir: \")\n",
        "  print(\"Merhaba, hoş geldin:\" , ad)\n"
      ],
      "execution_count": 2,
      "outputs": []
    },
    {
      "cell_type": "code",
      "metadata": {
        "colab": {
          "base_uri": "https://localhost:8080/"
        },
        "id": "8UxuuJ_jpW_N",
        "outputId": "3aa63db8-d05c-4372-d19a-2d1fe3dc091e"
      },
      "source": [
        "liste = [1,2,3,4,5]\n",
        "liste"
      ],
      "execution_count": 4,
      "outputs": [
        {
          "output_type": "execute_result",
          "data": {
            "text/plain": [
              "[1, 2, 3, 4, 5]"
            ]
          },
          "metadata": {
            "tags": []
          },
          "execution_count": 4
        }
      ]
    },
    {
      "cell_type": "code",
      "metadata": {
        "colab": {
          "base_uri": "https://localhost:8080/"
        },
        "id": "6vb_-fZ8pbI1",
        "outputId": "c1eed554-13eb-474b-92a2-98f608466637"
      },
      "source": [
        "selam()"
      ],
      "execution_count": 5,
      "outputs": [
        {
          "output_type": "stream",
          "text": [
            "Adını gir: Veysel\n",
            "Merhaba, hoş geldin: Veysel\n"
          ],
          "name": "stdout"
        }
      ]
    },
    {
      "cell_type": "code",
      "metadata": {
        "id": "_ndBJX_SpjX3"
      },
      "source": [
        "def toplama():\n",
        "  a = int(input(\"birinci sayıyı gir:\"))\n",
        "  b = int(input(\"ikinci sayıyı gir: \"))\n",
        "  print(\"girdiğin sayılar {}, {}. Toplamları: {} \".format(a,b,a+b))\n",
        "  "
      ],
      "execution_count": 6,
      "outputs": []
    },
    {
      "cell_type": "code",
      "metadata": {
        "colab": {
          "base_uri": "https://localhost:8080/"
        },
        "id": "yPE1s1ipp6dM",
        "outputId": "26e94357-532e-423c-ea41-b36ad7f3e325"
      },
      "source": [
        "selam()"
      ],
      "execution_count": 7,
      "outputs": [
        {
          "output_type": "stream",
          "text": [
            "Adını gir: Işıl\n",
            "Merhaba, hoş geldin: Işıl\n"
          ],
          "name": "stdout"
        }
      ]
    },
    {
      "cell_type": "code",
      "metadata": {
        "colab": {
          "base_uri": "https://localhost:8080/"
        },
        "id": "BfachvQSqBYB",
        "outputId": "de310f50-7ba0-4585-f445-3a8baafb126a"
      },
      "source": [
        "toplama()"
      ],
      "execution_count": 8,
      "outputs": [
        {
          "output_type": "stream",
          "text": [
            "birinci sayıyı gir:4\n",
            "ikinci sayıyı gir: 6\n",
            "girdiğin sayılar 4, 6. Toplamları: 10 \n"
          ],
          "name": "stdout"
        }
      ]
    },
    {
      "cell_type": "code",
      "metadata": {
        "id": "1yj9vxSJqJdq"
      },
      "source": [
        "#okul kayıt sistemi\n",
        "ogrenciler = []\n",
        "def kayit():\n",
        "  ad = input(\"Adın ve soyadın: \")\n",
        "  ogrenciler.append(ad)\n",
        "  print(\"Okulumuza hoş geldin:\", ad)\n",
        "  print(\"Kaydıt işlemin başarılı bir şekilde tamamlandı...\")\n"
      ],
      "execution_count": 9,
      "outputs": []
    },
    {
      "cell_type": "code",
      "metadata": {
        "colab": {
          "base_uri": "https://localhost:8080/"
        },
        "id": "9RlNA2Eiq5JL",
        "outputId": "5dd1f128-805e-429b-b948-6412a3d7a256"
      },
      "source": [
        "kayit()"
      ],
      "execution_count": 10,
      "outputs": [
        {
          "output_type": "stream",
          "text": [
            "Adın ve soyadın: Işıl Kokal\n",
            "Okulumuza hoş geldin: Işıl Kokal\n",
            "Kaydıt işlemin başarılı bir şekilde tamamlandı...\n"
          ],
          "name": "stdout"
        }
      ]
    },
    {
      "cell_type": "code",
      "metadata": {
        "colab": {
          "base_uri": "https://localhost:8080/"
        },
        "id": "tOwsYWGKrA7C",
        "outputId": "ac9684a7-abd1-47bf-803c-2e98315ae651"
      },
      "source": [
        "kayit()"
      ],
      "execution_count": 11,
      "outputs": [
        {
          "output_type": "stream",
          "text": [
            "Adın ve soyadın: Berke Ağbayır\n",
            "Okulumuza hoş geldin: Berke Ağbayır\n",
            "Kaydıt işlemin başarılı bir şekilde tamamlandı...\n"
          ],
          "name": "stdout"
        }
      ]
    },
    {
      "cell_type": "code",
      "metadata": {
        "colab": {
          "base_uri": "https://localhost:8080/"
        },
        "id": "3HyCktoYrGy-",
        "outputId": "82da656f-25ff-4a94-ac69-9123d90d8127"
      },
      "source": [
        "kayit()"
      ],
      "execution_count": 12,
      "outputs": [
        {
          "output_type": "stream",
          "text": [
            "Adın ve soyadın: Nazife Sude Can\n",
            "Okulumuza hoş geldin: Nazife Sude Can\n",
            "Kaydıt işlemin başarılı bir şekilde tamamlandı...\n"
          ],
          "name": "stdout"
        }
      ]
    },
    {
      "cell_type": "code",
      "metadata": {
        "colab": {
          "base_uri": "https://localhost:8080/"
        },
        "id": "3c3TCiTJrLOt",
        "outputId": "6452a220-ce76-4cbe-ba9c-29688ecdb79f"
      },
      "source": [
        "print(ogrenciler)\n",
        "print(\"Kayıtlı öğrenci sayısı: \", len(ogrenciler))"
      ],
      "execution_count": 15,
      "outputs": [
        {
          "output_type": "stream",
          "text": [
            "['Işıl Kokal', 'Berke Ağbayır', 'Nazife Sude Can']\n",
            "Kayıtlı öğrenci sayısı:  3\n"
          ],
          "name": "stdout"
        }
      ]
    },
    {
      "cell_type": "code",
      "metadata": {
        "colab": {
          "base_uri": "https://localhost:8080/"
        },
        "id": "riuMQik0riNd",
        "outputId": "bbf8908d-ecf5-468d-cea7-c9021db7939d"
      },
      "source": [
        "kayit()"
      ],
      "execution_count": 16,
      "outputs": [
        {
          "output_type": "stream",
          "text": [
            "Adın ve soyadın: İbrahim Uçar\n",
            "Okulumuza hoş geldin: İbrahim Uçar\n",
            "Kaydıt işlemin başarılı bir şekilde tamamlandı...\n"
          ],
          "name": "stdout"
        }
      ]
    },
    {
      "cell_type": "code",
      "metadata": {
        "colab": {
          "base_uri": "https://localhost:8080/"
        },
        "id": "8T1Y1Q_8rmL4",
        "outputId": "2fbe6271-26eb-4d30-8ada-2934c58cda17"
      },
      "source": [
        "kayit()"
      ],
      "execution_count": 17,
      "outputs": [
        {
          "output_type": "stream",
          "text": [
            "Adın ve soyadın: Sinan Yağcı\n",
            "Okulumuza hoş geldin: Sinan Yağcı\n",
            "Kaydıt işlemin başarılı bir şekilde tamamlandı...\n"
          ],
          "name": "stdout"
        }
      ]
    },
    {
      "cell_type": "code",
      "metadata": {
        "colab": {
          "base_uri": "https://localhost:8080/"
        },
        "id": "GNj5-XdJrs33",
        "outputId": "76d1e7dd-5e57-4de6-83c7-c327a3e19795"
      },
      "source": [
        "kayit()"
      ],
      "execution_count": 18,
      "outputs": [
        {
          "output_type": "stream",
          "text": [
            "Adın ve soyadın: Burak Emre\n",
            "Okulumuza hoş geldin: Burak Emre\n",
            "Kaydıt işlemin başarılı bir şekilde tamamlandı...\n"
          ],
          "name": "stdout"
        }
      ]
    },
    {
      "cell_type": "code",
      "metadata": {
        "id": "9H8ztLBJrvr5"
      },
      "source": [
        "def kayit_sayisi():\n",
        "  print(ogrenciler)\n",
        "  print(\"Kayıtlı öğrenci sayısı: \", len(ogrenciler))\n"
      ],
      "execution_count": 19,
      "outputs": []
    },
    {
      "cell_type": "code",
      "metadata": {
        "colab": {
          "base_uri": "https://localhost:8080/"
        },
        "id": "966P1NUWsBki",
        "outputId": "ea4c0326-9f0f-4531-9965-18a6d589e2a4"
      },
      "source": [
        "kayit_sayisi()"
      ],
      "execution_count": 20,
      "outputs": [
        {
          "output_type": "stream",
          "text": [
            "['Işıl Kokal', 'Berke Ağbayır', 'Nazife Sude Can', 'İbrahim Uçar', 'Sinan Yağcı', 'Burak Emre']\n",
            "Kayıtlı öğrenci sayısı:  6\n"
          ],
          "name": "stdout"
        }
      ]
    },
    {
      "cell_type": "code",
      "metadata": {
        "colab": {
          "base_uri": "https://localhost:8080/"
        },
        "id": "6GJ3xi7dsGce",
        "outputId": "a0750277-dab4-4329-b024-70e025ed2963"
      },
      "source": [
        "kayit()"
      ],
      "execution_count": 21,
      "outputs": [
        {
          "output_type": "stream",
          "text": [
            "Adın ve soyadın: Ebrar\n",
            "Okulumuza hoş geldin: Ebrar\n",
            "Kaydıt işlemin başarılı bir şekilde tamamlandı...\n"
          ],
          "name": "stdout"
        }
      ]
    },
    {
      "cell_type": "code",
      "metadata": {
        "colab": {
          "base_uri": "https://localhost:8080/"
        },
        "id": "DowV_VFAsHSr",
        "outputId": "6045e3d6-1365-44a7-a05e-e5b5d99c1e6f"
      },
      "source": [
        "kayit_sayisi()"
      ],
      "execution_count": 22,
      "outputs": [
        {
          "output_type": "stream",
          "text": [
            "['Işıl Kokal', 'Berke Ağbayır', 'Nazife Sude Can', 'İbrahim Uçar', 'Sinan Yağcı', 'Burak Emre', 'Ebrar']\n",
            "Kayıtlı öğrenci sayısı:  7\n"
          ],
          "name": "stdout"
        }
      ]
    },
    {
      "cell_type": "code",
      "metadata": {
        "colab": {
          "base_uri": "https://localhost:8080/"
        },
        "id": "nZGI_lujsdAW",
        "outputId": "513fcaf1-98b4-4ba3-8809-fb675d309773"
      },
      "source": [
        "selam()"
      ],
      "execution_count": 23,
      "outputs": [
        {
          "output_type": "stream",
          "text": [
            "Adını gir: Tarık\n",
            "Merhaba, hoş geldin: Tarık\n"
          ],
          "name": "stdout"
        }
      ]
    },
    {
      "cell_type": "code",
      "metadata": {
        "id": "J6-oxt7-sk1T"
      },
      "source": [
        "#fonksiyonlarda parametre"
      ],
      "execution_count": null,
      "outputs": []
    },
    {
      "cell_type": "code",
      "metadata": {
        "id": "KM3OziNWs1eY"
      },
      "source": [
        "def hesaplama(a):\n",
        "  return a - a*(18/100)\n",
        " "
      ],
      "execution_count": 36,
      "outputs": []
    },
    {
      "cell_type": "code",
      "metadata": {
        "id": "zDw1DJzVtX7L"
      },
      "source": [
        "def komisyon(a):\n",
        "  return  a - 200\n"
      ],
      "execution_count": 37,
      "outputs": []
    },
    {
      "cell_type": "code",
      "metadata": {
        "colab": {
          "base_uri": "https://localhost:8080/"
        },
        "id": "-U25H8bKuWZ-",
        "outputId": "be931cdd-1727-4ab7-82d0-0de2ead84fa4"
      },
      "source": [
        "komisyon(hesaplama(300000))"
      ],
      "execution_count": 39,
      "outputs": [
        {
          "output_type": "execute_result",
          "data": {
            "text/plain": [
              "245800.0"
            ]
          },
          "metadata": {
            "tags": []
          },
          "execution_count": 39
        }
      ]
    },
    {
      "cell_type": "code",
      "metadata": {
        "id": "mgCzdVWBu3F4"
      },
      "source": [
        "def islem3(a,b):\n",
        "  print(\"{} sayısının {} kuvveti: {} dir \".format(a,b,a**b))\n"
      ],
      "execution_count": 40,
      "outputs": []
    },
    {
      "cell_type": "code",
      "metadata": {
        "colab": {
          "base_uri": "https://localhost:8080/"
        },
        "id": "TpG4WecXvKN8",
        "outputId": "64543dd2-b0d1-4de0-d176-ed666ca698a5"
      },
      "source": [
        "islem3(20,30)"
      ],
      "execution_count": 42,
      "outputs": [
        {
          "output_type": "stream",
          "text": [
            "20 sayısının 30 kuvveti: 1073741824000000000000000000000000000000 dir \n"
          ],
          "name": "stdout"
        }
      ]
    },
    {
      "cell_type": "code",
      "metadata": {
        "id": "Bq1PkUohvajD"
      },
      "source": [
        "#pro hesap maknası"
      ],
      "execution_count": null,
      "outputs": []
    },
    {
      "cell_type": "code",
      "metadata": {
        "id": "CmNOLUjPvqBB"
      },
      "source": [
        "def toplama():\n",
        "  a = int(input(\"birinci sayıyı gir: \"))\n",
        "  b = int(input(\"iknci sayıyı gir: \"))\n",
        "  print(\"{} sayısı ile {} nın toplamı: {} dır \".format(a,b,a+b))"
      ],
      "execution_count": 43,
      "outputs": []
    },
    {
      "cell_type": "code",
      "metadata": {
        "id": "PeUBtHyRwBVb"
      },
      "source": [
        "def cikarma():\n",
        "  a = int(input(\"birinci sayıyı gir: \"))\n",
        "  b = int(input(\"iknci sayıyı gir: \"))\n",
        "  print(\"{} sayısı ile {} nın farkı: {} dır \".format(a,b,a-b))"
      ],
      "execution_count": 46,
      "outputs": []
    },
    {
      "cell_type": "code",
      "metadata": {
        "id": "9m_Ic7MywFrS"
      },
      "source": [
        "def carpma():\n",
        "  a = int(input(\"birinci sayıyı gir: \"))\n",
        "  b = int(input(\"iknci sayıyı gir: \"))\n",
        "  print(\"{} sayısı ile {} nın çarpımı: {} dır \".format(a,b,a*b))"
      ],
      "execution_count": 45,
      "outputs": []
    },
    {
      "cell_type": "code",
      "metadata": {
        "id": "Le6Tuq_AwJM7"
      },
      "source": [
        "def bolme():\n",
        "  a = int(input(\"birinci sayıyı gir: \"))\n",
        "  b = int(input(\"iknci sayıyı gir: \"))\n",
        "  print(\"{} sayısnın {} sayısına bölümü: {} dır \".format(a,b,a/b))"
      ],
      "execution_count": 44,
      "outputs": []
    },
    {
      "cell_type": "code",
      "metadata": {
        "id": "LP9ChdyHwQ1z"
      },
      "source": [
        "def usalma():\n",
        "  a = int(input(\"birinci sayıyı gir: \"))\n",
        "  b = int(input(\"iknci sayıyı gir: \"))\n",
        "  print(\"{} sayısının {} kuvveti: {} dır \".format(a,b,a**b))"
      ],
      "execution_count": 47,
      "outputs": []
    },
    {
      "cell_type": "code",
      "metadata": {
        "id": "SjlHm86TwX2n"
      },
      "source": [
        "def kokalma():\n",
        "  a = int(input(\"kökün içindeki sayıyı gir: \"))\n",
        "  b = int(input(\"kökün derecesini gir gir: \"))\n",
        "  print(\"{} sayısının {} dereecden koku: {} dır \".format(a,b,a**(1/b)))"
      ],
      "execution_count": 50,
      "outputs": []
    },
    {
      "cell_type": "code",
      "metadata": {
        "id": "aVLWIucuxF3s"
      },
      "source": [
        "def hesapmakinasi():\n",
        "  islem = input(\"toplama için 1, çıkarma için 2, çarpma için 3, bolme için 4, üs alma için 5, kok alma için ise 6 ya basınız:\")\n",
        "  if islem ==\"1\":\n",
        "    print(\"Toplama fonksiyonu başlatıldı\")\n",
        "    toplama()\n",
        "  elif islem ==\"2\":\n",
        "    print(\"Çıkarma fonksiyonu başlatıldı\")\n",
        "    cikarma()\n",
        "  elif islem ==\"3\":\n",
        "    print(\"Çarpma fonksiyonu başlatıldı\")\n",
        "    carpma()\n",
        "  elif islem ==\"4\":\n",
        "    print(\"Bölme fonksiyonu başlatıldı\")\n",
        "    bolme()\n",
        "  elif islem ==\"5\":\n",
        "    print(\"üs alma fonksiyonu başlatıldı\")\n",
        "    usalma()\n",
        "  elif islem ==\"6\":\n",
        "    print(\"kok alma fonksiyonu başlatıldı\")\n",
        "    kokalma()\n",
        "  else:\n",
        "    print(\"Geçerli bir işlem seçiniz.....!\")\n"
      ],
      "execution_count": 53,
      "outputs": []
    },
    {
      "cell_type": "code",
      "metadata": {
        "colab": {
          "base_uri": "https://localhost:8080/"
        },
        "id": "4UKvv-w9ySkq",
        "outputId": "c7b25515-12da-4066-eb54-00067c2ffc87"
      },
      "source": [
        "hesapmakinasi()"
      ],
      "execution_count": 52,
      "outputs": [
        {
          "output_type": "stream",
          "text": [
            "toplama için 1, çıkarma için 2, çarpma için 3, bolme için 4, üs alma için 5, kok alma için ise 6 ya basınız:5\n",
            "üs alma fonksiyonu başlatıldı\n",
            "birinci sayıyı gir: 4\n",
            "iknci sayıyı gir: 5\n",
            "4 sayısının 5 kuvveti: 1024 dır \n"
          ],
          "name": "stdout"
        }
      ]
    },
    {
      "cell_type": "code",
      "metadata": {
        "colab": {
          "base_uri": "https://localhost:8080/"
        },
        "id": "-9wmRlq0ygrb",
        "outputId": "ea53e070-0877-4645-de77-dbe5198008b6"
      },
      "source": [
        "hesapmakinasi()"
      ],
      "execution_count": 54,
      "outputs": [
        {
          "output_type": "stream",
          "text": [
            "toplama için 1, çıkarma için 2, çarpma için 3, bolme için 4, üs alma için 5, kok alma için ise 6 ya basınız:6\n",
            "kok alma fonksiyonu başlatıldı\n",
            "kökün içindeki sayıyı gir: 256\n",
            "kökün derecesini gir gir: 4\n",
            "256 sayısının 4 dereecden koku: 4.0 dır \n"
          ],
          "name": "stdout"
        }
      ]
    },
    {
      "cell_type": "code",
      "metadata": {
        "colab": {
          "base_uri": "https://localhost:8080/"
        },
        "id": "Evwt4nGZyoFH",
        "outputId": "790b1c59-2d74-4be3-8fc1-3f57e901b24a"
      },
      "source": [
        "kayit()"
      ],
      "execution_count": 55,
      "outputs": [
        {
          "output_type": "stream",
          "text": [
            "Adın ve soyadın: Nur Tuna\n",
            "Okulumuza hoş geldin: Nur Tuna\n",
            "Kaydıt işlemin başarılı bir şekilde tamamlandı...\n"
          ],
          "name": "stdout"
        }
      ]
    },
    {
      "cell_type": "code",
      "metadata": {
        "colab": {
          "base_uri": "https://localhost:8080/"
        },
        "id": "ororn6Srysm4",
        "outputId": "6e184f1a-2d41-4882-de8a-e4cef9fbf628"
      },
      "source": [
        "kayit_sayisi()"
      ],
      "execution_count": 56,
      "outputs": [
        {
          "output_type": "stream",
          "text": [
            "['Işıl Kokal', 'Berke Ağbayır', 'Nazife Sude Can', 'İbrahim Uçar', 'Sinan Yağcı', 'Burak Emre', 'Ebrar', 'Nur Tuna']\n",
            "Kayıtlı öğrenci sayısı:  8\n"
          ],
          "name": "stdout"
        }
      ]
    }
  ]
}